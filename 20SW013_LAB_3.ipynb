{
  "nbformat": 4,
  "nbformat_minor": 0,
  "metadata": {
    "colab": {
      "provenance": [],
      "authorship_tag": "ABX9TyPflJ5PCmyQYCKQmiQt8YQo",
      "include_colab_link": true
    },
    "kernelspec": {
      "name": "python3",
      "display_name": "Python 3"
    },
    "language_info": {
      "name": "python"
    }
  },
  "cells": [
    {
      "cell_type": "markdown",
      "metadata": {
        "id": "view-in-github",
        "colab_type": "text"
      },
      "source": [
        "<a href=\"https://colab.research.google.com/github/samjeelani013/repo-exercise/blob/main/20SW013_LAB_3.ipynb\" target=\"_parent\"><img src=\"https://colab.research.google.com/assets/colab-badge.svg\" alt=\"Open In Colab\"/></a>"
      ]
    },
    {
      "cell_type": "markdown",
      "source": [
        "DS & A (LAB-3) TASKS\n",
        "\n",
        "Roll Number: 20SW013 (Section-1)"
      ],
      "metadata": {
        "id": "LhU9PjbS3pf3"
      }
    },
    {
      "cell_type": "markdown",
      "source": [
        "TASK 1: Population Density Function"
      ],
      "metadata": {
        "id": "fNOIYGx0s-w_"
      }
    },
    {
      "cell_type": "code",
      "execution_count": 1,
      "metadata": {
        "colab": {
          "base_uri": "https://localhost:8080/"
        },
        "id": "TORVsv3kr18H",
        "outputId": "cd6a8063-687c-4075-9b7b-cf45ba35915f"
      },
      "outputs": [
        {
          "output_type": "stream",
          "name": "stdout",
          "text": [
            "expected result: 10, actual result: 10.0\n",
            "expected result: 7123.6902801, actual result: 7123.690280065897\n"
          ]
        }
      ],
      "source": [
        "def population_density(population, land_area):\n",
        "    return population/land_area\n",
        "\n",
        "test1 = population_density(10, 1)\n",
        "expected_result1 = 10\n",
        "print(\"expected result: {}, actual result: {}\".format(expected_result1, test1))\n",
        "test2 = population_density(864816, 121.4)\n",
        "expected_result2 = 7123.6902801\n",
        "print(\"expected result: {}, actual result: {}\".format(expected_result2, test2))"
      ]
    },
    {
      "cell_type": "markdown",
      "source": [
        "TASK 2: readable_timedelta"
      ],
      "metadata": {
        "id": "jj-evmpTtGbq"
      }
    },
    {
      "cell_type": "code",
      "source": [
        "def readable_timedelta(days):\n",
        "    total_weeks = days // 7\n",
        "    remaining_days= days % 7\n",
        "    return \"{} week(s) and {} days(s)\".format(total_weeks, remaining_days)\n",
        "print(readable_timedelta(10))"
      ],
      "metadata": {
        "colab": {
          "base_uri": "https://localhost:8080/"
        },
        "id": "t96nGpB_tNqd",
        "outputId": "f78762fc-85a8-46b3-d50c-536cc3e4ee99"
      },
      "execution_count": 15,
      "outputs": [
        {
          "output_type": "stream",
          "name": "stdout",
          "text": [
            "1 week(s) and 3 days(s)\n"
          ]
        }
      ]
    },
    {
      "cell_type": "markdown",
      "source": [
        "TASK 3: Lambda with Map"
      ],
      "metadata": {
        "id": "3Z-VlHC3uaZF"
      }
    },
    {
      "cell_type": "code",
      "source": [
        "numbers = [\n",
        "    [34, 63, 88, 71, 29],\n",
        "    [90, 78, 51, 27, 45],\n",
        "    [63, 37, 85, 46, 22],\n",
        "    [51, 22, 34, 11, 18]\n",
        "]\n",
        "\n",
        "def mean(num_list):\n",
        "    return sum(num_list) / len(num_list)\n",
        "\n",
        "averages = list(map(lambda num_list: sum(num_list) / len(num_list), numbers))\n",
        "\n",
        "print(averages)"
      ],
      "metadata": {
        "colab": {
          "base_uri": "https://localhost:8080/"
        },
        "id": "6-NKcy_wudK0",
        "outputId": "e6676ca7-cc61-4755-d465-3350743f319b"
      },
      "execution_count": 5,
      "outputs": [
        {
          "output_type": "stream",
          "name": "stdout",
          "text": [
            "[57.0, 58.2, 50.6, 27.2]\n"
          ]
        }
      ]
    },
    {
      "cell_type": "markdown",
      "source": [
        "TASK 4: Lambda with Filter"
      ],
      "metadata": {
        "id": "p0ApZN9YwraM"
      }
    },
    {
      "cell_type": "code",
      "source": [
        "cities = [\"New York City\", \"Los Angeles\", \"Chicago\", \"Mountain View\", \"Denver\", \"Boston\"]\n",
        "\n",
        "def is_short(names):\n",
        " return len(names) < 10\n",
        "\n",
        "short_cities = list(filter(lambda names: len(names) < 10, cities))\n",
        "\n",
        "print(short_cities)"
      ],
      "metadata": {
        "colab": {
          "base_uri": "https://localhost:8080/"
        },
        "id": "6B6O7PPtwwtA",
        "outputId": "20e29790-510b-4bf2-cfdc-6868d30cdbc2"
      },
      "execution_count": 14,
      "outputs": [
        {
          "output_type": "stream",
          "name": "stdout",
          "text": [
            "['Chicago', 'Denver', 'Boston']\n"
          ]
        }
      ]
    },
    {
      "cell_type": "markdown",
      "source": [
        "Task 5: Generate Messages"
      ],
      "metadata": {
        "id": "iqeXnKLk0qYF"
      }
    },
    {
      "cell_type": "code",
      "source": [
        "list_of_names = input(\"Enter a list of student names separated by commas: \")\n",
        "names = list_of_names.split(\",\")\n",
        "\n",
        "missing_assignments = input(\"Enter a list of the number of missing assignments separated by commas: \")\n",
        "assignments = list(map(int, missing_assignments.split(\",\")))\n",
        "\n",
        "list_of_grades = input(\"Enter a list of grades separated by commas: \")\n",
        "grades = list(map(float, list_of_grades.split(\",\")))\n",
        "\n",
        "message = \"Hi {},\\n\\nThis is a reminder that you have {} assignments left to submit before you can graduate. Your current grade is {} and can increase to {} if you submit all assignments before the due date.\\n\\n\"\n",
        "\n",
        "for name, missing_assignments, grade in zip(names, assignments, grades):\n",
        "    potential_grade = grade + 2 * missing_assignments\n",
        "    print(message.format(name, missing_assignments, grade, potential_grade))"
      ],
      "metadata": {
        "colab": {
          "base_uri": "https://localhost:8080/"
        },
        "id": "DakP5Kl90znT",
        "outputId": "d1a0a6d4-552d-44a6-b570-17855d3d6057"
      },
      "execution_count": 13,
      "outputs": [
        {
          "output_type": "stream",
          "name": "stdout",
          "text": [
            "Enter a list of student names separated by commas: sam, alex, jungkook, barbie\n",
            "Enter a list of the number of missing assignments separated by commas: 5\n",
            "Enter a list of grades separated by commas: 12.5, 32.2, 55.3\n",
            "Hi sam,\n",
            "\n",
            "This is a reminder that you have 5 assignments left to submit before you can graduate. Your current grade is 12.5 and can increase to 22.5 if you submit all assignments before the due date.\n",
            "\n",
            "\n"
          ]
        }
      ]
    },
    {
      "cell_type": "markdown",
      "source": [
        "TASK 6: Reading and Writing Files"
      ],
      "metadata": {
        "id": "PIMm-ya5xNG5"
      }
    },
    {
      "cell_type": "code",
      "source": [
        "camelot_lines = []\n",
        "\n",
        "with open(\"camelot.txt\") as f:\n",
        "  for line in f:\n",
        "       camelot_lines.append(line.strip())\n",
        "print(camelot_lines)"
      ],
      "metadata": {
        "id": "2ljXfdlkxZb2"
      },
      "execution_count": null,
      "outputs": []
    }
  ]
}